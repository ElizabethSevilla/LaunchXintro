{
 "cells": [
  {
   "cell_type": "markdown",
   "metadata": {},
   "source": [
    "# Ejercicio 1"
   ]
  },
  {
   "cell_type": "code",
   "execution_count": 23,
   "metadata": {},
   "outputs": [
    {
     "name": "stdout",
     "output_type": "stream",
     "text": [
      "Hay 8 planetas en el sistema solar.\n",
      "Neptuno es el último planeta\n",
      "Neptuno es el penútimo planeta\n"
     ]
    }
   ],
   "source": [
    "# Creamos la lista de planetas y la mostramos\n",
    "planets = ['Mercurio', 'Venus', 'Tierra', 'Marte', 'Júpiter', 'Saturno', 'Urano', 'Neptuno']\n",
    "\n",
    "print('Hay', número_de_planetas, 'planetas en el sistema solar.')\n",
    "\n",
    "#Agregamos a plutón y mostramos el último elemento\n",
    "planets.append('Plutón')\n",
    "print(planetas[-1], 'es el último planeta')\n",
    "\n",
    "#Agregamos a Neptuno y mostramos el ultimo elemento\n",
    "planets.append('Neptuno')\n",
    "print(planets[-3], 'es el penútimo planeta')\n",
    "\n"
   ]
  },
  {
   "cell_type": "markdown",
   "metadata": {},
   "source": [
    "# Ejercicio 2"
   ]
  },
  {
   "cell_type": "code",
   "execution_count": 41,
   "metadata": {},
   "outputs": [
    {
     "name": "stdout",
     "output_type": "stream",
     "text": [
      "Estos son los planetas más cercanos al sol\n",
      "['Mercurio', 'Venus', 'Tierra', 'Marte', 'Júpiter', 'Saturno', 'Urano']\n",
      "Estos son los planetas más lejanos al sol\n",
      "['Urano', 'Neptuno']\n"
     ]
    }
   ],
   "source": [
    "planets = ['Mercurio', 'Venus', 'Tierra', 'Marte', 'Júpiter', 'Saturno', 'Urano', 'Neptuno']\n",
    "\n",
    "# Solicitamos el nombre de un planeta *Pista: input()*\n",
    "user_planet = input('Por favor ingrese el nombre del planeta (con una letra mayúscula al empezar)')\n",
    "\n",
    "# Busca el planeta en la lista\n",
    "planet_index = planets.index(user_planet)\n",
    "\n",
    "# Muestra los planetas más cercanos al sol\n",
    "print('Estos son los planetas más cercanos al sol')\n",
    "print(planetas[0: planet_index])\n",
    "\n",
    "#Muestra los planetas más lejanos al sol\n",
    "print ('Estos son los planetas más lejanos al sol' )\n",
    "print(planetas[planet_index - 1:])\n"
   ]
  },
  {
   "cell_type": "code",
   "execution_count": null,
   "metadata": {},
   "outputs": [],
   "source": []
  }
 ],
 "metadata": {
  "interpreter": {
   "hash": "f02674978dc50dfddcb3dd1855d6053474ebf2341ec092c6c79888c2d0298a78"
  },
  "kernelspec": {
   "display_name": "Python 3.10.2 64-bit",
   "language": "python",
   "name": "python3"
  },
  "language_info": {
   "codemirror_mode": {
    "name": "ipython",
    "version": 3
   },
   "file_extension": ".py",
   "mimetype": "text/x-python",
   "name": "python",
   "nbconvert_exporter": "python",
   "pygments_lexer": "ipython3",
   "version": "3.10.2"
  },
  "orig_nbformat": 4
 },
 "nbformat": 4,
 "nbformat_minor": 2
}
