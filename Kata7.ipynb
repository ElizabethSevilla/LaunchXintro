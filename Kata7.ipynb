{
 "cells": [
  {
   "cell_type": "markdown",
   "metadata": {},
   "source": [
    "# Ejercicio 1: Uso de ciclo while en Python"
   ]
  },
  {
   "cell_type": "code",
   "execution_count": 32,
   "metadata": {},
   "outputs": [],
   "source": [
    "#Creamos la variable que almacena el texto\n",
    "new_planet = ''\n",
    "#Creanos la lista que almacena cada uno de los textos que el usario ingresa\n",
    "planets= []\n",
    "\n",
    "#Ciclo while\n",
    "while new_planet.lower() != 'done':\n",
    "    #Verificamos si hay un valor en user input\n",
    "    if new_planet:\n",
    "        #Almacenamos ese valor en la lista\n",
    "        planets.append(new_planet)\n",
    "    #Capturamos un nuevo valor\n",
    "    new_planet = input('Ingresa un nuevo planeta')\n",
    "\n"
   ]
  },
  {
   "cell_type": "code",
   "execution_count": 33,
   "metadata": {},
   "outputs": [
    {
     "name": "stdout",
     "output_type": "stream",
     "text": [
      "mercurio\n",
      "venus\n",
      "tierra\n",
      "marte\n",
      "júpiter\n",
      "saturno\n",
      "urano\n"
     ]
    }
   ],
   "source": [
    "# Escribe tu for para iterar en una lista de planetas\n",
    "\n",
    "for planet in planets:\n",
    "    print(planet)"
   ]
  }
 ],
 "metadata": {
  "interpreter": {
   "hash": "f02674978dc50dfddcb3dd1855d6053474ebf2341ec092c6c79888c2d0298a78"
  },
  "kernelspec": {
   "display_name": "Python 3.10.2 64-bit",
   "language": "python",
   "name": "python3"
  },
  "language_info": {
   "codemirror_mode": {
    "name": "ipython",
    "version": 3
   },
   "file_extension": ".py",
   "mimetype": "text/x-python",
   "name": "python",
   "nbconvert_exporter": "python",
   "pygments_lexer": "ipython3",
   "version": "3.10.2"
  },
  "orig_nbformat": 4
 },
 "nbformat": 4,
 "nbformat_minor": 2
}
